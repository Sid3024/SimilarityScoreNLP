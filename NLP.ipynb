{
  "nbformat": 4,
  "nbformat_minor": 0,
  "metadata": {
    "colab": {
      "provenance": [],
      "authorship_tag": "ABX9TyMJShoaEleXWgOnUP7+30d1",
      "include_colab_link": true
    },
    "kernelspec": {
      "name": "python3",
      "display_name": "Python 3"
    },
    "language_info": {
      "name": "python"
    }
  },
  "cells": [
    {
      "cell_type": "markdown",
      "metadata": {
        "id": "view-in-github",
        "colab_type": "text"
      },
      "source": [
        "<a href=\"https://colab.research.google.com/github/Sid3024/SimilarityScoreNLP/blob/main/NLP.ipynb\" target=\"_parent\"><img src=\"https://colab.research.google.com/assets/colab-badge.svg\" alt=\"Open In Colab\"/></a>"
      ]
    },
    {
      "cell_type": "code",
      "execution_count": null,
      "metadata": {
        "id": "Pl7Hjcaaonji"
      },
      "outputs": [],
      "source": [
        "from transformers import BertTokenizer, BertModel\n",
        "import torch"
      ]
    },
    {
      "cell_type": "code",
      "source": [
        "def get_word_embedding(sentence, word, tokenizer, model):\n",
        "    # Tokenize the sentence and convert to input IDs\n",
        "    inputs = tokenizer(sentence, return_tensors='pt')\n",
        "    outputs = model(**inputs)\n",
        "\n",
        "    # Find indices of the subtokens corresponding to the word\n",
        "    word_tokens = tokenizer.tokenize(word)\n",
        "    word_ids = tokenizer.convert_tokens_to_ids(word_tokens)\n",
        "    token_indices = [i for i, token_id in enumerate(inputs['input_ids'][0]) if token_id in word_ids]\n",
        "\n",
        "    # Aggregate the embeddings of the subtokens\n",
        "    embeddings = outputs.last_hidden_state[0, token_indices, :]\n",
        "    word_embedding = embeddings.mean(dim=0)  # Take mean across the subtoken dimension\n",
        "\n",
        "    return word_embedding"
      ],
      "metadata": {
        "id": "eSwE6FmGo8mY"
      },
      "execution_count": null,
      "outputs": []
    },
    {
      "cell_type": "code",
      "source": [
        "# Example usage\n",
        "tokenizer = BertTokenizer.from_pretrained('bert-base-uncased')\n",
        "model = BertModel.from_pretrained('bert-base-uncased', output_attentions=False)\n",
        "\n",
        "sentence1 = \"boxing gloves\"\n",
        "word1 = \"gloves\"\n",
        "embedding1 = get_word_embedding(sentence1, word1, tokenizer, model)\n",
        "\n",
        "sentence2 = \"gloves\"\n",
        "word2 = \"gloves\"\n",
        "embedding2 = get_word_embedding(sentence2, word2, tokenizer, model)\n",
        "\n",
        "# Calculate cosine similarity\n",
        "cosine_sim = torch.nn.functional.cosine_similarity(embedding1.unsqueeze(0), embedding2.unsqueeze(0))\n",
        "print(f\"Cosine similarity: {cosine_sim.item()}\")"
      ],
      "metadata": {
        "colab": {
          "base_uri": "https://localhost:8080/"
        },
        "id": "YfAvbns8o-_v",
        "outputId": "42841447-1f7a-4073-8033-758a47cda172"
      },
      "execution_count": null,
      "outputs": [
        {
          "output_type": "stream",
          "name": "stdout",
          "text": [
            "Cosine similarity: 0.5901429653167725\n"
          ]
        }
      ]
    },
    {
      "cell_type": "code",
      "source": [],
      "metadata": {
        "id": "tO96vjw5PxM9",
        "outputId": "b8e95836-dc05-4759-a868-1aaebe3049aa",
        "colab": {
          "base_uri": "https://localhost:8080/"
        }
      },
      "execution_count": null,
      "outputs": [
        {
          "output_type": "stream",
          "name": "stdout",
          "text": [
            "Files in current directory: ['.config', 'sample_data']\n"
          ]
        }
      ]
    },
    {
      "cell_type": "markdown",
      "source": [],
      "metadata": {
        "id": "5_94ksPWptrV"
      }
    }
  ]
}