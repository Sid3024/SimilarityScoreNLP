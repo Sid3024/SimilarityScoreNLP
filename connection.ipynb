from flask import Flask, request, jsonify
import requests
import json

app = Flask(__name__)

# Endpoint to receive similarity score request
@app.route('/calculate_similarity', methods=['POST'])
def calculate_similarity():
    data = request.get_json()
    sentence1 = data['sentence1']
    word1 = data['word1']
    if data['embedding1'] == "null":
        embedding1 = None
    else:
        embedding1 = data['embedding1']
    sentence2 = data['sentence2']
    word2 = data['word2']
    if data['embedding2'] == "null":
        embedding2 = None
    else:
        embedding2 = data['embedding2']

    # Invoke Google Colab notebook
    url = "https://colab.research.google.com/drive/1lUawG25B5zWJiLyqNvV6zJgDsK2t4PkL#scrollTo=YfAvbns8o-_v"
    payload = {
        "type": "notebook",
        "content": {
            "url": url,
            "target": "http://colab.research.google.com",
            "data": {
                "sentence1": sentence1,
                "word1": word1,
                "embedding1": embedding1,
                "sentence2": sentence2,
                "word2": word2,
                "embedding2": embedding2
            }
        }
    }
    similarity_score = 1.0
    '''
    try:
        response = requests.post(url, json=payload)
        response_data = response.json()
        similarity_score = response_data.get('similarity_score')
    except json.JSONDecodeError:
        similarity_score = 'Error: Unable to parse response'
    '''
    return jsonify({'similarity_score': similarity_score})

if __name__ == '__main__':
    app.run(debug=True)
