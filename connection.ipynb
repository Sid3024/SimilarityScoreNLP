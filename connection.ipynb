from flask import Flask, request, jsonify
import requests

app = Flask(__name__)

# Endpoint to receive similarity score request
@app.route('/calculate_similarity', methods=['POST'])
def calculate_similarity():
    data = request.get_json()
    string1 = data['string1']
    string2 = data['string2']

    # Invoke Google Colab notebook
    url = "https://colab.research.google.com/drive/your-notebook-id"
    payload = {
        "type": "notebook",
        "content": {
            "url": "https://github.com/Sid3024/SimilarityScoreNLP/blob/main/NLP.ipynb",
            "target": "http://colab.research.google.com"
        }
    }
    response = requests.post(url, json=payload)
    
    # Extract similarity score from response
    similarity_score = response.json()['similarity_score']

    return jsonify({'similarity_score': similarity_score})

if __name__ == '__main__':
    app.run(debug=True)
