from flask import Flask, request, jsonify
import requests

app = Flask(__name__)

# Endpoint to receive similarity score request
@app.route('/calculate_similarity', methods=['POST'])
def calculate_similarity():
    data = request.get_json()
    sentence1 = data['sentence1']
    word1 = data['word1']
    embedding1 = data['embedding1']
    sentence2 = data['sentence2']
    word2 = data['word2']
    embedding2 = data['embedding2']

    # Invoke Google Colab notebook
    url = "https://colab.research.google.com/drive/your-notebook-id"
    payload = {
        "type": "notebook",
        "content": {
            "url": "url",
            "target": "http://colab.research.google.com",
            "data": {
                "sentence1": sentence1,
                "word1": word1,
                "embedding1": embedding1,
                "sentence2": sentence2,
                "word2": word2,
                "embedding2": embedding2
            }
        }
    }
    response = requests.post(url, json=payload)
    
    # Extract similarity score from response
    similarity_score = response.json()['similarity_score']

    return jsonify({'similarity_score': similarity_score})

if __name__ == '__main__':
    app.run(debug=True)
